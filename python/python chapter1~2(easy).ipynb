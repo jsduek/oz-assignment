{
 "cells": [
  {
   "metadata": {},
   "cell_type": "markdown",
   "source": "# 파이썬 1~2일차 쪽지시험",
   "id": "5ce5aa2babe14282"
  },
  {
   "metadata": {},
   "cell_type": "markdown",
   "source": [
    "## 문제 1\n",
    "### 오즈코딩스쿨에서 코딩을 처음 시작한 박상훈!\n",
    "### 박상훈에게는 덩치, 애기라는 도마뱀이 있습니다.\n",
    "### 도마뱀의 나이는 각각 1살 2살 입니다.\n",
    "### 각 도마뱀의 이름으로 변수를 선언하고 각 도마뱀의 나이를 할당해주세요!!"
   ],
   "id": "136e2d85abe685b9"
  },
  {
   "metadata": {
    "ExecuteTime": {
     "end_time": "2024-10-17T07:16:06.208035Z",
     "start_time": "2024-10-17T07:16:06.204549Z"
    }
   },
   "cell_type": "code",
   "source": [
    "덩치_age = 1\n",
    "애기_age = 2\n",
    "도마뱀 = [덩치, 애기]"
   ],
   "id": "8e5a1ab9c30b38a7",
   "outputs": [],
   "execution_count": 11
  },
  {
   "metadata": {},
   "cell_type": "markdown",
   "source": [
    "## 문제 2\n",
    "### 박상훈의 `도마뱀 변수`들을 사용하여 `도마뱀 리스트`를 만들어 주세요!"
   ],
   "id": "94e68ef24ba3e5f7"
  },
  {
   "metadata": {
    "ExecuteTime": {
     "end_time": "2024-10-17T07:27:44.540495Z",
     "start_time": "2024-10-17T07:27:44.536625Z"
    }
   },
   "cell_type": "code",
   "source": "print(도마뱀)",
   "id": "b8334aff8ce27138",
   "outputs": [
    {
     "name": "stdout",
     "output_type": "stream",
     "text": [
      "['덩치', '애기', '마고']\n"
     ]
    }
   ],
   "execution_count": 30
  },
  {
   "metadata": {},
   "cell_type": "markdown",
   "source": [
    "## 문제 3\n",
    "### 박상훈이 도마뱀을 새로 샀어요!\n",
    "### 도마뱀의 이름은 마고, 나이는 2살이에요!\n",
    "### `도마뱀 리스트`에 가장 끝에 추가해주세요!!"
   ],
   "id": "454fe842db180fc"
  },
  {
   "metadata": {
    "ExecuteTime": {
     "end_time": "2024-10-17T07:16:12.052608Z",
     "start_time": "2024-10-17T07:16:12.048889Z"
    }
   },
   "cell_type": "code",
   "source": [
    "마고_age = 2\n",
    "도마뱀.append(\"마고\")\n",
    "print(도마뱀)"
   ],
   "id": "3ec1ef1be2927b78",
   "outputs": [
    {
     "name": "stdout",
     "output_type": "stream",
     "text": [
      "['덩치', '애기', '마고']\n"
     ]
    }
   ],
   "execution_count": 13
  },
  {
   "metadata": {},
   "cell_type": "markdown",
   "source": [
    "## 문제 4\n",
    "### 박상훈의 도마뱀들의 나이를 더해 주세요!!"
   ],
   "id": "20ccbdf20f857d13"
  },
  {
   "metadata": {
    "ExecuteTime": {
     "end_time": "2024-10-17T07:17:12.192559Z",
     "start_time": "2024-10-17T07:17:12.189423Z"
    }
   },
   "cell_type": "code",
   "source": [
    "total_age = 덩치_age + 애기_age + 마고_age\n",
    "print(total_age)"
   ],
   "id": "3ebc179d264d3866",
   "outputs": [
    {
     "name": "stdout",
     "output_type": "stream",
     "text": [
      "5\n"
     ]
    }
   ],
   "execution_count": 15
  },
  {
   "metadata": {},
   "cell_type": "markdown",
   "source": [
    "## 문제 5\n",
    "### 박상훈의 `도마뱀 리스트`를 사용하여 \"사육장\"이라는 딕셔너리를 만들어주세요!"
   ],
   "id": "eea768f4f558a28a"
  },
  {
   "metadata": {
    "ExecuteTime": {
     "end_time": "2024-10-17T07:32:24.955338Z",
     "start_time": "2024-10-17T07:32:24.952486Z"
    }
   },
   "cell_type": "code",
   "source": [
    "도마뱀_age = [1, 2, 2]\n",
    "사육장 = dict(zip(도마뱀,도마뱀_age))"
   ],
   "id": "49874bd7d6ee7c2d",
   "outputs": [],
   "execution_count": 33
  },
  {
   "metadata": {},
   "cell_type": "markdown",
   "source": [
    "## 문제 6\n",
    "### 사육장 딕셔너리를 `key, value` 형태로 출력해주세요!"
   ],
   "id": "a7b973b398f00642"
  },
  {
   "metadata": {
    "ExecuteTime": {
     "end_time": "2024-10-17T07:38:55.339917Z",
     "start_time": "2024-10-17T07:38:55.336652Z"
    }
   },
   "cell_type": "code",
   "source": [
    "사육장.keys()\n",
    "사육장.values()\n",
    "print(사육장.items())"
   ],
   "id": "94544cb2f847228f",
   "outputs": [
    {
     "name": "stdout",
     "output_type": "stream",
     "text": [
      "dict_items([('덩치', 1), ('애기', 2), ('마고', 2)])\n"
     ]
    }
   ],
   "execution_count": 41
  },
  {
   "metadata": {},
   "cell_type": "markdown",
   "source": "",
   "id": "fec443543704aada"
  },
  {
   "metadata": {},
   "cell_type": "markdown",
   "source": [
    "## 문제 7\n",
    "### 도마뱀들의 나이를 `실수형태`로 출력해주세요!"
   ],
   "id": "a9aa1a28e60e6bf8"
  },
  {
   "metadata": {
    "ExecuteTime": {
     "end_time": "2024-10-17T08:01:43.446593Z",
     "start_time": "2024-10-17T08:01:43.442692Z"
    }
   },
   "cell_type": "code",
   "source": [
    "age1 = float(덩치_age)\n",
    "age2 = float(애기_age)\n",
    "age3 = float(마고_age)\n",
    "\n",
    "print(age1, age2, age3)"
   ],
   "id": "e54beaa27d10127e",
   "outputs": [
    {
     "name": "stdout",
     "output_type": "stream",
     "text": [
      "1.0 2.0 2.0\n"
     ]
    }
   ],
   "execution_count": 55
  },
  {
   "metadata": {},
   "cell_type": "markdown",
   "source": [
    "## 문제 8\n",
    "### 1년이 지났습니다.\n",
    "### 도마뱀들이 1살씩 나이를 먹었어요\n",
    "### 도마뱀들의 나이를 바꿔주세요!"
   ],
   "id": "62dc195b0e580f91"
  },
  {
   "metadata": {
    "ExecuteTime": {
     "end_time": "2024-10-17T08:14:11.926393Z",
     "start_time": "2024-10-17T08:14:11.923148Z"
    }
   },
   "cell_type": "code",
   "source": [
    "덩치_age2 = 덩치_age + 1\n",
    "애기_age2 = 애기_age + 1\n",
    "마고_age2 = 마고_age + 1\n",
    "print(덩치_age2, 애기_age2, 마고_age2)"
   ],
   "id": "286dc862809e7e80",
   "outputs": [
    {
     "name": "stdout",
     "output_type": "stream",
     "text": [
      "2 3 3\n"
     ]
    }
   ],
   "execution_count": 61
  },
  {
   "metadata": {},
   "cell_type": "markdown",
   "source": [
    "## 문제 9\n",
    "### n년이 지났을 때 도마뱀의 나이가 알고 싶어 졌어요!!\n",
    "### `input` 을 이용해서 n년차 도마뱀들의 나이를 출력해주세요!"
   ],
   "id": "ed5d1e1503e37223"
  },
  {
   "metadata": {
    "ExecuteTime": {
     "end_time": "2024-10-17T08:49:30.930958Z",
     "start_time": "2024-10-17T08:49:29.447681Z"
    }
   },
   "cell_type": "code",
   "source": [
    "ages_all = [2, 3, 3]\n",
    "def calculate_ages_after_n_years(ages, n):\n",
    "    return [age + n for age in ages]\n",
    "\n",
    "n = int(input(\"몇 해가 지났나요?\"))\n",
    "future_ages = calculate_ages_after_n_years(ages_all, n)\n",
    "\n",
    "print(f'{n}년 후 나이는 {future_ages}살 입니다.')\n"
   ],
   "id": "7a8db95dd6192d42",
   "outputs": [
    {
     "name": "stdout",
     "output_type": "stream",
     "text": [
      "3년 후 나이는 [5, 6, 6]살 입니다.\n"
     ]
    }
   ],
   "execution_count": 88
  },
  {
   "metadata": {},
   "cell_type": "markdown",
   "source": [
    "## 문제 10\n",
    "### 5년이 지났습니다\n",
    "### 우리 도마뱀들이 너무 커서 사육장을 분리해야해요!\n",
    "### 딕셔너리로 나누었던 것을 사육장1, 2, 3 `리스트`로 변경하고\n",
    "### 각 도마뱀들을 넣어주세요!"
   ],
   "id": "3e3fd38bd44d9b2e"
  },
  {
   "metadata": {
    "ExecuteTime": {
     "end_time": "2024-10-17T08:55:55.313876Z",
     "start_time": "2024-10-17T08:55:55.308835Z"
    }
   },
   "cell_type": "code",
   "source": [
    "data = 사육장\n",
    "\n",
    "data_list = list(data)\n",
    "\n",
    "list1 = []\n",
    "list2 = []\n",
    "list3 = []\n",
    "\n",
    "for i, item in enumerate(data_list):\n",
    "    if i % 3 == 0:\n",
    "        list1.append(item)\n",
    "    elif i % 3 == 1:\n",
    "        list2.append(item)\n",
    "    else:\n",
    "        list3.append(item)\n",
    "\n",
    "print(\"List 1:\", list1)\n",
    "print(\"List 2:\", list2)\n",
    "print(\"List 3:\", list3)"
   ],
   "id": "95ad0c7878164214",
   "outputs": [
    {
     "name": "stdout",
     "output_type": "stream",
     "text": [
      "List 1: ['덩치']\n",
      "List 2: ['애기']\n",
      "List 3: ['마고']\n"
     ]
    }
   ],
   "execution_count": 92
  },
  {
   "metadata": {},
   "cell_type": "markdown",
   "source": "",
   "id": "e9add10bf3ea4774"
  }
 ],
 "metadata": {
  "kernelspec": {
   "display_name": "Python 3",
   "language": "python",
   "name": "python3"
  },
  "language_info": {
   "codemirror_mode": {
    "name": "ipython",
    "version": 2
   },
   "file_extension": ".py",
   "mimetype": "text/x-python",
   "name": "python",
   "nbconvert_exporter": "python",
   "pygments_lexer": "ipython2",
   "version": "2.7.6"
  }
 },
 "nbformat": 4,
 "nbformat_minor": 5
}
